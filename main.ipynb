{
 "cells": [
  {
   "cell_type": "code",
   "execution_count": 1,
   "metadata": {},
   "outputs": [],
   "source": [
    "#TODO\n",
    "#logistic regression / linear regression\n",
    "#time from the peak\n",
    "#weekly variant\n",
    "#trend based linear regression / time series analysis\n",
    "#add average sales, 3m,6m, 12m, YOY\n",
    "#Survival Analysis\n",
    "#Add survey response\n",
    "########\n",
    "#How many clients \"churned\"?\n",
    "#Is object sales value making users more prone to quit?\n",
    "#build second model?\n",
    "#weekly, monthly, yearly, YOY performance\n",
    "#set the target variable\n",
    "#assign the trend to each customer and then plot it.\n",
    "#average change during last 6 months? YOY?\n",
    "\n",
    "#number of zero sales during last period?\n",
    "#sales week before\n",
    "#trend strike\n",
    "#diff of mean sales?"
   ]
  },
  {
   "cell_type": "markdown",
   "metadata": {},
   "source": [
    "Churn Prediction\n",
    "Pattern\n",
    "There are 3 aggregated reasons of Churn (resignation of service by client) defined by Payability customer service:\n",
    "    1. No longer active on Amazon (27% last 12 mths)\n",
    "        I. Supplier’s sales decline, leading to end of business\n",
    "    2. Outgrew Payability (27% last 12 mths)\n",
    "        I. Supplier’s sales significantly incline and Supplier is getting other financing\n",
    "    3. Product complaint (46% last 12 mths)\n",
    "Task\n",
    "Analyse first 2 points of above Churn reasons.\n",
    "\n",
    "Having sales history data, prepare a model classifying the trend of sales as inclining or declining [or any other you see useful] and test the accuracy of model on given dataset. Check whether is there correlation of trend movement to churn event (churn happened if there is a date given in churn dataset – if there is no date, the client is still using our service) – verify the hipothesis stated by Customer Service.\n",
    "\n",
    "Provide GitHub (or any similar, BitBucket etc.) link to Python script that you created during the analysis."
   ]
  },
  {
   "cell_type": "code",
   "execution_count": 19,
   "metadata": {},
   "outputs": [],
   "source": [
    "import pandas as pd\n",
    "import numpy as np\n",
    "import datetime\n",
    "import matplotlib.pyplot as plt\n",
    "from sklearn.metrics import roc_auc_score\n",
    "import lightgbm as lgbm\n",
    "from sklearn.model_selection import StratifiedKFold\n",
    "import multiprocessing as mp "
   ]
  },
  {
   "cell_type": "code",
   "execution_count": 3,
   "metadata": {},
   "outputs": [],
   "source": [
    "perf = pd.read_csv('seller_performance_data.csv', sep=';', low_memory=False).drop('Unnamed: 0', axis = 1)\n",
    "churn = pd.read_csv('churn_data.csv', sep=';').drop('Unnamed: 0', axis = 1)"
   ]
  },
  {
   "cell_type": "code",
   "execution_count": 4,
   "metadata": {},
   "outputs": [],
   "source": [
    "#set the right dtypes\n",
    "perf.report_date = pd.to_datetime(perf.report_date)\n",
    "churn.churn_date = pd.to_datetime(churn.churn_date)\n",
    "\n",
    "perf.ordered_product_sales = perf.ordered_product_sales.apply(lambda x: \n",
    "                                                str(x).replace(',','.')).astype('float32')\n",
    "perf.ordered_product_sales_b2b = perf.ordered_product_sales_b2b.apply(lambda x: \n",
    "                                                str(x).replace(',','.')).astype('float32')"
   ]
  },
  {
   "cell_type": "markdown",
   "metadata": {},
   "source": [
    "# Overall Checks"
   ]
  },
  {
   "cell_type": "code",
   "execution_count": 6,
   "metadata": {},
   "outputs": [],
   "source": [
    "#Do we have performance data for all churned clients?"
   ]
  },
  {
   "cell_type": "code",
   "execution_count": 9,
   "metadata": {
    "scrolled": true
   },
   "outputs": [
    {
     "data": {
      "text/plain": [
       "0.901"
      ]
     },
     "execution_count": 9,
     "metadata": {},
     "output_type": "execute_result"
    }
   ],
   "source": [
    "round(len(perf.loc[perf.supplier_key.isin(churn.supplier_key),'supplier_key'].unique()) / \\\n",
    "len(churn.supplier_key.unique()),3)"
   ]
  },
  {
   "cell_type": "markdown",
   "metadata": {},
   "source": [
    "10% of performance data for customers who did quit is missing. Let's find out who those are."
   ]
  },
  {
   "cell_type": "code",
   "execution_count": 11,
   "metadata": {
    "scrolled": false
   },
   "outputs": [
    {
     "data": {
      "text/plain": [
       "{'093222f2-0030-4b9f-833e-b1395b1cf824',\n",
       " '2c624e3d-30a6-4328-9767-c78100ab26c7',\n",
       " '4408ef25-a930-42c2-9036-d2a73dba06f0',\n",
       " '45cdfd3b-7092-4e6f-a373-8f384a7f4304',\n",
       " '6d8136e4-8c5a-43f4-9d66-4c284766a81a',\n",
       " '6f9fbc7d-23fc-4a13-9223-971ec59ea175',\n",
       " '7a32a17c-3b0a-41ca-ae95-ce6b76e85dea',\n",
       " '815c6552-086b-420f-bd78-989254bcb34d',\n",
       " '898b3237-3a03-459f-b1e0-b4e285aaeedd',\n",
       " 'a776a378-a343-4286-98a3-6675d68e2f51',\n",
       " 'cb87344a-5db9-45c0-9c54-e7dd285faeee',\n",
       " 'da98671d-70b6-44e0-9cc3-00d681092bb3',\n",
       " 'f3501f9c-70c0-40d6-ba0c-e679b30e7e74',\n",
       " 'fa2e1a47-ba8a-4f12-b117-f11ec117a4ef'}"
      ]
     },
     "execution_count": 11,
     "metadata": {},
     "output_type": "execute_result"
    }
   ],
   "source": [
    "set(churn.supplier_key.unique()).difference(set(perf.supplier_key.unique()))"
   ]
  },
  {
   "cell_type": "markdown",
   "metadata": {},
   "source": [
    "Let's have a look at the data"
   ]
  },
  {
   "cell_type": "code",
   "execution_count": 12,
   "metadata": {},
   "outputs": [
    {
     "data": {
      "text/html": [
       "<div>\n",
       "<style scoped>\n",
       "    .dataframe tbody tr th:only-of-type {\n",
       "        vertical-align: middle;\n",
       "    }\n",
       "\n",
       "    .dataframe tbody tr th {\n",
       "        vertical-align: top;\n",
       "    }\n",
       "\n",
       "    .dataframe thead th {\n",
       "        text-align: right;\n",
       "    }\n",
       "</style>\n",
       "<table border=\"1\" class=\"dataframe\">\n",
       "  <thead>\n",
       "    <tr style=\"text-align: right;\">\n",
       "      <th></th>\n",
       "      <th>ordered_product_sales</th>\n",
       "      <th>ordered_product_sales_b2b</th>\n",
       "      <th>units_ordered</th>\n",
       "      <th>units_ordered_b2b</th>\n",
       "      <th>units_refunded</th>\n",
       "    </tr>\n",
       "  </thead>\n",
       "  <tbody>\n",
       "    <tr>\n",
       "      <th>count</th>\n",
       "      <td>278975.000000</td>\n",
       "      <td>278975.000000</td>\n",
       "      <td>278975.000000</td>\n",
       "      <td>278975.000000</td>\n",
       "      <td>278975.000000</td>\n",
       "    </tr>\n",
       "    <tr>\n",
       "      <th>mean</th>\n",
       "      <td>931.690002</td>\n",
       "      <td>27.646441</td>\n",
       "      <td>37.082502</td>\n",
       "      <td>1.036233</td>\n",
       "      <td>0.755806</td>\n",
       "    </tr>\n",
       "    <tr>\n",
       "      <th>std</th>\n",
       "      <td>4914.086426</td>\n",
       "      <td>330.797028</td>\n",
       "      <td>271.206070</td>\n",
       "      <td>14.744259</td>\n",
       "      <td>7.888461</td>\n",
       "    </tr>\n",
       "    <tr>\n",
       "      <th>min</th>\n",
       "      <td>0.000000</td>\n",
       "      <td>0.000000</td>\n",
       "      <td>0.000000</td>\n",
       "      <td>0.000000</td>\n",
       "      <td>-1.000000</td>\n",
       "    </tr>\n",
       "    <tr>\n",
       "      <th>25%</th>\n",
       "      <td>0.000000</td>\n",
       "      <td>0.000000</td>\n",
       "      <td>0.000000</td>\n",
       "      <td>0.000000</td>\n",
       "      <td>0.000000</td>\n",
       "    </tr>\n",
       "    <tr>\n",
       "      <th>50%</th>\n",
       "      <td>32.980000</td>\n",
       "      <td>0.000000</td>\n",
       "      <td>1.000000</td>\n",
       "      <td>0.000000</td>\n",
       "      <td>0.000000</td>\n",
       "    </tr>\n",
       "    <tr>\n",
       "      <th>75%</th>\n",
       "      <td>397.769989</td>\n",
       "      <td>0.000000</td>\n",
       "      <td>14.000000</td>\n",
       "      <td>0.000000</td>\n",
       "      <td>0.000000</td>\n",
       "    </tr>\n",
       "    <tr>\n",
       "      <th>max</th>\n",
       "      <td>307322.437500</td>\n",
       "      <td>16839.220703</td>\n",
       "      <td>24333.000000</td>\n",
       "      <td>1867.000000</td>\n",
       "      <td>1582.000000</td>\n",
       "    </tr>\n",
       "  </tbody>\n",
       "</table>\n",
       "</div>"
      ],
      "text/plain": [
       "       ordered_product_sales  ordered_product_sales_b2b  units_ordered  \\\n",
       "count          278975.000000              278975.000000  278975.000000   \n",
       "mean              931.690002                  27.646441      37.082502   \n",
       "std              4914.086426                 330.797028     271.206070   \n",
       "min                 0.000000                   0.000000       0.000000   \n",
       "25%                 0.000000                   0.000000       0.000000   \n",
       "50%                32.980000                   0.000000       1.000000   \n",
       "75%               397.769989                   0.000000      14.000000   \n",
       "max            307322.437500               16839.220703   24333.000000   \n",
       "\n",
       "       units_ordered_b2b  units_refunded  \n",
       "count      278975.000000   278975.000000  \n",
       "mean            1.036233        0.755806  \n",
       "std            14.744259        7.888461  \n",
       "min             0.000000       -1.000000  \n",
       "25%             0.000000        0.000000  \n",
       "50%             0.000000        0.000000  \n",
       "75%             0.000000        0.000000  \n",
       "max          1867.000000     1582.000000  "
      ]
     },
     "execution_count": 12,
     "metadata": {},
     "output_type": "execute_result"
    }
   ],
   "source": [
    "perf.describe()"
   ]
  },
  {
   "cell_type": "code",
   "execution_count": 14,
   "metadata": {},
   "outputs": [
    {
     "data": {
      "text/html": [
       "<div>\n",
       "<style scoped>\n",
       "    .dataframe tbody tr th:only-of-type {\n",
       "        vertical-align: middle;\n",
       "    }\n",
       "\n",
       "    .dataframe tbody tr th {\n",
       "        vertical-align: top;\n",
       "    }\n",
       "\n",
       "    .dataframe thead th {\n",
       "        text-align: right;\n",
       "    }\n",
       "</style>\n",
       "<table border=\"1\" class=\"dataframe\">\n",
       "  <thead>\n",
       "    <tr style=\"text-align: right;\">\n",
       "      <th></th>\n",
       "      <th>ordered_product_sales</th>\n",
       "      <th>ordered_product_sales_b2b</th>\n",
       "      <th>units_ordered</th>\n",
       "      <th>units_ordered_b2b</th>\n",
       "      <th>units_refunded</th>\n",
       "    </tr>\n",
       "  </thead>\n",
       "  <tbody>\n",
       "    <tr>\n",
       "      <th>ordered_product_sales</th>\n",
       "      <td>1.000000</td>\n",
       "      <td>0.380320</td>\n",
       "      <td>0.866981</td>\n",
       "      <td>0.408478</td>\n",
       "      <td>0.554738</td>\n",
       "    </tr>\n",
       "    <tr>\n",
       "      <th>ordered_product_sales_b2b</th>\n",
       "      <td>0.380320</td>\n",
       "      <td>1.000000</td>\n",
       "      <td>0.350937</td>\n",
       "      <td>0.917082</td>\n",
       "      <td>0.298353</td>\n",
       "    </tr>\n",
       "    <tr>\n",
       "      <th>units_ordered</th>\n",
       "      <td>0.866981</td>\n",
       "      <td>0.350937</td>\n",
       "      <td>1.000000</td>\n",
       "      <td>0.431610</td>\n",
       "      <td>0.632785</td>\n",
       "    </tr>\n",
       "    <tr>\n",
       "      <th>units_ordered_b2b</th>\n",
       "      <td>0.408478</td>\n",
       "      <td>0.917082</td>\n",
       "      <td>0.431610</td>\n",
       "      <td>1.000000</td>\n",
       "      <td>0.343540</td>\n",
       "    </tr>\n",
       "    <tr>\n",
       "      <th>units_refunded</th>\n",
       "      <td>0.554738</td>\n",
       "      <td>0.298353</td>\n",
       "      <td>0.632785</td>\n",
       "      <td>0.343540</td>\n",
       "      <td>1.000000</td>\n",
       "    </tr>\n",
       "  </tbody>\n",
       "</table>\n",
       "</div>"
      ],
      "text/plain": [
       "                           ordered_product_sales  ordered_product_sales_b2b  \\\n",
       "ordered_product_sales                   1.000000                   0.380320   \n",
       "ordered_product_sales_b2b               0.380320                   1.000000   \n",
       "units_ordered                           0.866981                   0.350937   \n",
       "units_ordered_b2b                       0.408478                   0.917082   \n",
       "units_refunded                          0.554738                   0.298353   \n",
       "\n",
       "                           units_ordered  units_ordered_b2b  units_refunded  \n",
       "ordered_product_sales           0.866981           0.408478        0.554738  \n",
       "ordered_product_sales_b2b       0.350937           0.917082        0.298353  \n",
       "units_ordered                   1.000000           0.431610        0.632785  \n",
       "units_ordered_b2b               0.431610           1.000000        0.343540  \n",
       "units_refunded                  0.632785           0.343540        1.000000  "
      ]
     },
     "execution_count": 14,
     "metadata": {},
     "output_type": "execute_result"
    }
   ],
   "source": [
    "perf.corr()"
   ]
  },
  {
   "cell_type": "code",
   "execution_count": 13,
   "metadata": {},
   "outputs": [
    {
     "data": {
      "text/html": [
       "<div>\n",
       "<style scoped>\n",
       "    .dataframe tbody tr th:only-of-type {\n",
       "        vertical-align: middle;\n",
       "    }\n",
       "\n",
       "    .dataframe tbody tr th {\n",
       "        vertical-align: top;\n",
       "    }\n",
       "\n",
       "    .dataframe thead th {\n",
       "        text-align: right;\n",
       "    }\n",
       "</style>\n",
       "<table border=\"1\" class=\"dataframe\">\n",
       "  <thead>\n",
       "    <tr style=\"text-align: right;\">\n",
       "      <th></th>\n",
       "      <th>supplier_key</th>\n",
       "      <th>churn_date</th>\n",
       "    </tr>\n",
       "  </thead>\n",
       "  <tbody>\n",
       "    <tr>\n",
       "      <th>count</th>\n",
       "      <td>141</td>\n",
       "      <td>141</td>\n",
       "    </tr>\n",
       "    <tr>\n",
       "      <th>unique</th>\n",
       "      <td>141</td>\n",
       "      <td>131</td>\n",
       "    </tr>\n",
       "    <tr>\n",
       "      <th>top</th>\n",
       "      <td>3e0e0fa2-46b4-4aa2-ac95-19d2daa462a4</td>\n",
       "      <td>2018-02-15 00:00:00</td>\n",
       "    </tr>\n",
       "    <tr>\n",
       "      <th>freq</th>\n",
       "      <td>1</td>\n",
       "      <td>4</td>\n",
       "    </tr>\n",
       "    <tr>\n",
       "      <th>first</th>\n",
       "      <td>NaN</td>\n",
       "      <td>2016-01-25 00:00:00</td>\n",
       "    </tr>\n",
       "    <tr>\n",
       "      <th>last</th>\n",
       "      <td>NaN</td>\n",
       "      <td>2018-11-16 00:00:00</td>\n",
       "    </tr>\n",
       "  </tbody>\n",
       "</table>\n",
       "</div>"
      ],
      "text/plain": [
       "                                supplier_key           churn_date\n",
       "count                                    141                  141\n",
       "unique                                   141                  131\n",
       "top     3e0e0fa2-46b4-4aa2-ac95-19d2daa462a4  2018-02-15 00:00:00\n",
       "freq                                       1                    4\n",
       "first                                    NaN  2016-01-25 00:00:00\n",
       "last                                     NaN  2018-11-16 00:00:00"
      ]
     },
     "execution_count": 13,
     "metadata": {},
     "output_type": "execute_result"
    }
   ],
   "source": [
    "churn.describe()"
   ]
  },
  {
   "cell_type": "markdown",
   "metadata": {},
   "source": [
    "Probably the best way to see what's going one before some quits is to plot the revenu again the time "
   ]
  },
  {
   "cell_type": "code",
   "execution_count": 16,
   "metadata": {},
   "outputs": [
    {
     "data": {
      "text/plain": [
       "(109383, 9)"
      ]
     },
     "execution_count": 16,
     "metadata": {},
     "output_type": "execute_result"
    }
   ],
   "source": [
    "jdf = pd.merge(perf, churn, on = 'supplier_key', how = 'left')\n",
    "jdf['days_to_churn'] = jdf.churn_date - jdf.report_date\n",
    "jdf['days_to_churn'] = jdf['days_to_churn'].apply(lambda x: x.days)\n",
    "jdf = jdf.loc[~jdf['days_to_churn'].isnull(),:]\n",
    "jdf = jdf.loc[jdf['days_to_churn'] >= 0,:]\n",
    "jdf.shape"
   ]
  },
  {
   "cell_type": "code",
   "execution_count": 17,
   "metadata": {},
   "outputs": [
    {
     "data": {
      "text/plain": [
       "<matplotlib.collections.PathCollection at 0x7f0d440c07b8>"
      ]
     },
     "execution_count": 17,
     "metadata": {},
     "output_type": "execute_result"
    },
    {
     "data": {
      "image/png": "[encoded data removed]",
      "text/plain": [
       "<Figure size 432x288 with 1 Axes>"
      ]
     },
     "metadata": {
      "needs_background": "light"
     },
     "output_type": "display_data"
    }
   ],
   "source": [
    "plt.scatter(jdf.groupby('days_to_churn').mean().index, \\\n",
    "            jdf.groupby('days_to_churn').mean()['ordered_product_sales'])"
   ]
  },
  {
   "cell_type": "markdown",
   "metadata": {},
   "source": [
    "There seems to be a corelation between number of days left to quit and mean sales value but it's weirdly linear. Let's plot few examples."
   ]
  },
  {
   "cell_type": "code",
   "execution_count": 18,
   "metadata": {},
   "outputs": [
    {
     "data": {
      "text/plain": [
       "[<matplotlib.lines.Line2D at 0x7f0d43f73940>]"
      ]
     },
     "execution_count": 18,
     "metadata": {},
     "output_type": "execute_result"
    },
    {
     "data": {
      "image/png": "[encoded data removed]",
      "text/plain": [
       "<Figure size 432x288 with 4 Axes>"
      ]
     },
     "metadata": {
      "needs_background": "light"
     },
     "output_type": "display_data"
    }
   ],
   "source": [
    "jdf = jdf.sort_values(by=['supplier_key','report_date']).reset_index()\n",
    "plt.subplot(2, 2, 1)\n",
    "plt.plot(jdf.loc[jdf.supplier_key == jdf.supplier_key.unique() \\\n",
    "                 [np.random.randint(len(jdf.supplier_key.unique()))],'ordered_product_sales'].values)\n",
    "\n",
    "plt.subplot(2, 2, 2)\n",
    "plt.plot(jdf.loc[jdf.supplier_key == jdf.supplier_key.unique()\\\n",
    "                 [np.random.randint(len(jdf.supplier_key.unique()))],'ordered_product_sales'].values)\n",
    "\n",
    "plt.subplot(2, 2, 3)\n",
    "plt.plot(jdf.loc[jdf.supplier_key == jdf.supplier_key.unique()\\\n",
    "                 [np.random.randint(len(jdf.supplier_key.unique()))],'ordered_product_sales'].values)\n",
    "\n",
    "plt.subplot(2, 2, 4)\n",
    "plt.plot(jdf.loc[jdf.supplier_key == jdf.supplier_key.unique()\\\n",
    "                 [np.random.randint(len(jdf.supplier_key.unique()))],'ordered_product_sales'].values)\n"
   ]
  },
  {
   "cell_type": "markdown",
   "metadata": {},
   "source": [
    "There are zeros at the beginning of some of time series. They should be removed."
   ]
  },
  {
   "cell_type": "code",
   "execution_count": 20,
   "metadata": {},
   "outputs": [],
   "source": [
    "jdf.drop('index', axis = 1, inplace=True)\n",
    "jdf.loc[:,'beginZero'] = 0"
   ]
  },
  {
   "cell_type": "code",
   "execution_count": 26,
   "metadata": {},
   "outputs": [],
   "source": [
    "def removeZeros(i):\n",
    "        if (i == 0) & (jdf.loc[jdf.index == i,'ordered_product_sales'].values == 0):\n",
    "            return pd.DataFrame(\n",
    "                    [[\n",
    "                      jdf.loc[jdf.index == i,'supplier_key'].values[0],\n",
    "                        jdf.loc[jdf.index == i,'report_date'].values[0],\n",
    "                        jdf.loc[jdf.index == i,'ordered_product_sales'].values[0],\n",
    "                        1\n",
    "                    ]],\n",
    "            columns=['supplier_key','report_date','ordered_product_sales','beginZero'])\n",
    "        if jdf.loc[jdf.index == i,'supplier_key'].values == jdf.loc[jdf.index == i-1,'supplier_key'].values:\n",
    "            if (jdf.loc[jdf.index == i,'ordered_product_sales'].values == 0) & \\\n",
    "            (jdf.loc[jdf.index == (i-1),'ordered_product_sales'].values == 0):  \n",
    "                return pd.DataFrame(\n",
    "                        [[\n",
    "                          jdf.loc[jdf.index == i,'supplier_key'].values[0],\n",
    "                            jdf.loc[jdf.index == i,'report_date'].values[0],\n",
    "                            jdf.loc[jdf.index == i,'ordered_product_sales'].values[0],\n",
    "                            1\n",
    "                        ]],\n",
    "                columns=['supplier_key','report_date','ordered_product_sales','beginZero'])\n",
    "            else:\n",
    "                return pd.DataFrame(\n",
    "                        [[\n",
    "                          jdf.loc[jdf.index == i,'supplier_key'].values[0],\n",
    "                            jdf.loc[jdf.index == i,'report_date'].values[0],\n",
    "                            jdf.loc[jdf.index == i,'ordered_product_sales'].values[0],\n",
    "                            0\n",
    "                        ]],\n",
    "                columns=['supplier_key','report_date','ordered_product_sales','beginZero'])\n",
    "        else:\n",
    "            if (jdf.loc[jdf.index == i,'ordered_product_sales'].values == 0):\n",
    "                return pd.DataFrame(\n",
    "                        [[\n",
    "                          jdf.loc[jdf.index == i,'supplier_key'].values[0],\n",
    "                            jdf.loc[jdf.index == i,'report_date'].values[0],\n",
    "                            jdf.loc[jdf.index == i,'ordered_product_sales'].values[0],\n",
    "                            1\n",
    "                        ]],\n",
    "                columns=['supplier_key','report_date','ordered_product_sales','beginZero'])\n",
    "            else:\n",
    "                return pd.DataFrame(\n",
    "                            [[\n",
    "                              jdf.loc[jdf.index == i,'supplier_key'].values[0],\n",
    "                            jdf.loc[jdf.index == i,'report_date'].values[0],\n",
    "                            jdf.loc[jdf.index == i,'ordered_product_sales'].values[0],\n",
    "                                0\n",
    "                            ]],\n",
    "                    columns=['supplier_key','report_date','ordered_product_sales','beginZero'])\n",
    " "
   ]
  },
  {
   "cell_type": "code",
   "execution_count": 27,
   "metadata": {},
   "outputs": [
    {
     "name": "stdout",
     "output_type": "stream",
     "text": [
      "CPU times: user 43 s, sys: 605 ms, total: 43.6 s\n",
      "Wall time: 1min 1s\n"
     ]
    }
   ],
   "source": [
    "%%time\n",
    "pool = mp.Pool(processes = (mp.cpu_count()))\n",
    "results = pool.map(removeZeros, range(jdf.shape[0]))\n",
    "pool.close()\n",
    "pool.join()\n",
    "\n",
    "resdf = pd.concat(results)"
   ]
  },
  {
   "cell_type": "code",
   "execution_count": 28,
   "metadata": {
    "scrolled": true
   },
   "outputs": [],
   "source": [
    "jdf = pd.merge(jdf,resdf, on = ['supplier_key','report_date'], suffixes=['_toDel',''])\n",
    "jdf.drop(['ordered_product_sales_toDel'], axis = 1, inplace=True)\n",
    "jdf = jdf.loc[jdf.beginZero == 0,:]"
   ]
  },
  {
   "cell_type": "code",
   "execution_count": 29,
   "metadata": {},
   "outputs": [
    {
     "data": {
      "text/plain": [
       "[<matplotlib.lines.Line2D at 0x7f0d096c55c0>]"
      ]
     },
     "execution_count": 29,
     "metadata": {},
     "output_type": "execute_result"
    },
    {
     "data": {
      "image/png": "[encoded data removed]",
      "text/plain": [
       "<Figure size 432x288 with 4 Axes>"
      ]
     },
     "metadata": {
      "needs_background": "light"
     },
     "output_type": "display_data"
    }
   ],
   "source": [
    "plt.subplot(2, 2, 1)\n",
    "plt.plot(jdf.loc[jdf.supplier_key == jdf.supplier_key.unique() \\\n",
    "                 [np.random.randint(len(jdf.supplier_key.unique()))],'ordered_product_sales'].values)\n",
    "\n",
    "plt.subplot(2, 2, 2)\n",
    "plt.plot(jdf.loc[jdf.supplier_key == jdf.supplier_key.unique()\\\n",
    "                 [np.random.randint(len(jdf.supplier_key.unique()))],'ordered_product_sales'].values)\n",
    "\n",
    "plt.subplot(2, 2, 3)\n",
    "plt.plot(jdf.loc[jdf.supplier_key == jdf.supplier_key.unique()\\\n",
    "                 [np.random.randint(len(jdf.supplier_key.unique()))],'ordered_product_sales'].values)\n",
    "\n",
    "plt.subplot(2, 2, 4)\n",
    "plt.plot(jdf.loc[jdf.supplier_key == jdf.supplier_key.unique()\\\n",
    "                 [np.random.randint(len(jdf.supplier_key.unique()))],'ordered_product_sales'].values)\n"
   ]
  },
  {
   "cell_type": "markdown",
   "metadata": {},
   "source": [
    "Now it's better"
   ]
  },
  {
   "cell_type": "code",
   "execution_count": 30,
   "metadata": {},
   "outputs": [
    {
     "data": {
      "text/plain": [
       "Text(0, 0.5, 'Sales')"
      ]
     },
     "execution_count": 30,
     "metadata": {},
     "output_type": "execute_result"
    },
    {
     "data": {
      "image/png": "[encoded data removed]",
      "text/plain": [
       "<Figure size 432x288 with 1 Axes>"
      ]
     },
     "metadata": {
      "needs_background": "light"
     },
     "output_type": "display_data"
    }
   ],
   "source": [
    "#inclines and declines cancel each either out?\n",
    "plt.scatter(jdf.groupby('days_to_churn').mean().index, jdf.groupby('days_to_churn').mean() \\\n",
    "            ['ordered_product_sales'])\n",
    "plt.xlabel('Days to Churn Date')\n",
    "plt.ylabel('Sales')"
   ]
  },
  {
   "cell_type": "code",
   "execution_count": 31,
   "metadata": {},
   "outputs": [
    {
     "data": {
      "text/plain": [
       "Text(0, 0.5, 'Sales')"
      ]
     },
     "execution_count": 31,
     "metadata": {},
     "output_type": "execute_result"
    },
    {
     "data": {
      "image/png": "[encoded data removed]",
      "text/plain": [
       "<Figure size 432x288 with 1 Axes>"
      ]
     },
     "metadata": {
      "needs_background": "light"
     },
     "output_type": "display_data"
    }
   ],
   "source": [
    "#inclines and declines cancel each either out?\n",
    "plt.plot(jdf.groupby('days_to_churn').mean()['ordered_product_sales'])\n",
    "plt.plot(jdf.groupby('days_to_churn').sum()['ordered_product_sales']/100)\n",
    "plt.legend(['Mean of Sales', 'Sum of Sales'])\n",
    "plt.xlabel('Days to Churn Date')\n",
    "plt.ylabel('Sales')"
   ]
  },
  {
   "cell_type": "markdown",
   "metadata": {},
   "source": [
    "The linearity is gone but the pic is hardly readable. It would be useful to get weekly aggregations"
   ]
  },
  {
   "cell_type": "code",
   "execution_count": 32,
   "metadata": {},
   "outputs": [],
   "source": [
    "jdf['year'] = jdf.report_date.dt.year\n",
    "#jdf['month'] = jdf.report_date.dt.month\n",
    "jdf['weekofyear'] = jdf.report_date.dt.weekofyear\n",
    "# jdf['quarter'] = jdf.report_date.dt.quarter"
   ]
  },
  {
   "cell_type": "code",
   "execution_count": 33,
   "metadata": {},
   "outputs": [],
   "source": [
    "jdfm = jdf.groupby(['supplier_key', 'year', 'weekofyear']).sum()\n",
    "jdfm.drop(['days_to_churn', 'beginZero'], axis = 1, inplace=True)\n",
    "chm = churn.copy()\n",
    "chm['churned'] = 1\n",
    "jdfm = jdfm.reset_index().merge(chm, on = ['supplier_key'], how = 'left')"
   ]
  },
  {
   "cell_type": "code",
   "execution_count": 34,
   "metadata": {},
   "outputs": [],
   "source": [
    "#weeks to churn\n",
    "jdfm['weeks_to_churn'] = (jdfm.churn_date.dt.year - jdfm.year)*52 - \\\n",
    "    jdfm.weekofyear + jdfm.churn_date.dt.weekofyear\n",
    "\n",
    "#weeks from start\n",
    "jdfm['date'] = jdfm.year.map(str) + '-' + jdfm.weekofyear.map(str) + '-' + str(1)\n",
    "#verify!\n",
    "jdfm['date'] = pd.to_datetime(jdfm['date'], format='%Y-%W-%w')\n",
    "jdfm['date'] = jdfm.supplier_key.map(jdfm.groupby('supplier_key').min()['date'])\n",
    "jdfm['weeks_from_start'] = (jdfm.year*52 + jdfm.weekofyear) - (jdfm.date.dt.year*52 + jdfm.date.dt.weekofyear)\n",
    "jdfm.drop('date', axis = 1, inplace=True)"
   ]
  },
  {
   "cell_type": "code",
   "execution_count": 35,
   "metadata": {},
   "outputs": [
    {
     "data": {
      "text/plain": [
       "Text(0, 0.5, 'Sales')"
      ]
     },
     "execution_count": 35,
     "metadata": {},
     "output_type": "execute_result"
    },
    {
     "data": {
      "image/png": "[encoded data removed]",
      "text/plain": [
       "<Figure size 432x288 with 1 Axes>"
      ]
     },
     "metadata": {
      "needs_background": "light"
     },
     "output_type": "display_data"
    }
   ],
   "source": [
    "#cancel each either out?\n",
    "plt.plot(jdfm.loc[jdfm.weeks_to_churn > 0,:].groupby('weeks_to_churn').mean()['ordered_product_sales'])\n",
    "plt.plot(jdfm.loc[jdfm.weeks_to_churn > 0,:].groupby('weeks_to_churn').sum()['ordered_product_sales']/100)\n",
    "plt.legend(['Mean of Sales', 'Sum of Sales'])\n",
    "plt.xlabel('Weeks to Churn Date')\n",
    "plt.ylabel('Sales')"
   ]
  },
  {
   "cell_type": "markdown",
   "metadata": {},
   "source": [
    "if the sum of sales is growing and the mean sales stays about the same it has to balanced by slow movers\n",
    "it seems so, let's separate users who might quit because of lack of sales"
   ]
  },
  {
   "cell_type": "code",
   "execution_count": 36,
   "metadata": {
    "scrolled": true
   },
   "outputs": [],
   "source": [
    "jdfm = jdfm.set_index(['supplier_key', 'year','weekofyear'])\n",
    "jdfm_diff = (jdfm - jdfm.groupby('supplier_key').shift(1))\n",
    "jdfm_diff = jdfm_diff.reset_index()"
   ]
  },
  {
   "cell_type": "code",
   "execution_count": 37,
   "metadata": {
    "scrolled": true
   },
   "outputs": [],
   "source": [
    "for s in jdfm_diff.supplier_key.unique():\n",
    "    jdfm_diff.loc[jdfm_diff.supplier_key == s,'1wDiffMean'] = \\\n",
    "        jdfm_diff.loc[jdfm_diff.supplier_key == s,'ordered_product_sales'].rolling(1).mean()\n",
    "    jdfm_diff.loc[jdfm_diff.supplier_key == s,'2wDiffMean'] = \\\n",
    "        jdfm_diff.loc[jdfm_diff.supplier_key == s,'ordered_product_sales'].rolling(2).mean()\n",
    "    jdfm_diff.loc[jdfm_diff.supplier_key == s,'3wDiffMean'] = \\\n",
    "        jdfm_diff.loc[jdfm_diff.supplier_key == s,'ordered_product_sales'].rolling(3).mean()\n",
    "    jdfm_diff.loc[jdfm_diff.supplier_key == s,'6wDiffMean'] = \\\n",
    "        jdfm_diff.loc[jdfm_diff.supplier_key == s,'ordered_product_sales'].rolling(6).mean()\n",
    "    jdfm_diff.loc[jdfm_diff.supplier_key == s,'9wDiffMean'] = \\\n",
    "        jdfm_diff.loc[jdfm_diff.supplier_key == s,'ordered_product_sales'].rolling(9).mean()\n",
    "    jdfm_diff.loc[jdfm_diff.supplier_key == s,'12wDiffMean'] = \\\n",
    "        jdfm_diff.loc[jdfm_diff.supplier_key == s,'ordered_product_sales'].rolling(12).mean()\n",
    "    jdfm_diff.loc[jdfm_diff.supplier_key == s,'15wDiffMean'] = \\\n",
    "        jdfm_diff.loc[jdfm_diff.supplier_key == s,'ordered_product_sales'].rolling(15).mean()"
   ]
  },
  {
   "cell_type": "code",
   "execution_count": 38,
   "metadata": {},
   "outputs": [],
   "source": [
    "jdfm['1wDiffMean'] = jdfm_diff.set_index(['supplier_key', 'year','weekofyear']).loc[:,'1wDiffMean']\n",
    "jdfm['2wDiffMean'] = jdfm_diff.set_index(['supplier_key', 'year','weekofyear']).loc[:,'2wDiffMean']\n",
    "jdfm['3wDiffMean'] = jdfm_diff.set_index(['supplier_key', 'year','weekofyear']).loc[:,'3wDiffMean']\n",
    "jdfm['6wDiffMean'] = jdfm_diff.set_index(['supplier_key', 'year','weekofyear']).loc[:,'6wDiffMean']\n",
    "jdfm['9wDiffMean'] = jdfm_diff.set_index(['supplier_key', 'year','weekofyear']).loc[:,'9wDiffMean']\n",
    "jdfm['12wDiffMean'] = jdfm_diff.set_index(['supplier_key', 'year','weekofyear']).loc[:,'12wDiffMean']\n",
    "jdfm['15wDiffMean'] = jdfm_diff.set_index(['supplier_key', 'year','weekofyear']).loc[:,'15wDiffMean']"
   ]
  },
  {
   "cell_type": "code",
   "execution_count": 39,
   "metadata": {},
   "outputs": [],
   "source": [
    "jdfm = jdfm.reset_index()"
   ]
  },
  {
   "cell_type": "code",
   "execution_count": 40,
   "metadata": {},
   "outputs": [],
   "source": [
    "for s in jdfm.supplier_key.unique():\n",
    "    tsl = jdfm.loc[jdfm.supplier_key == s,:].shape[0]\n",
    "    tsdf = jdfm.loc[jdfm.supplier_key == s,:]\n",
    "    tslistmax = list()\n",
    "    tslistmin = list()\n",
    "    for l in range(tsl):\n",
    "        tslistmax.append(tsdf.iloc[0:l,:].loc[:,'ordered_product_sales'].max())\n",
    "        tslistmin.append(tsdf.iloc[0:l,:].loc[:,'ordered_product_sales'].min())\n",
    "    jdfm.loc[jdfm.supplier_key == s,'peakSales'] = tslistmax\n",
    "    jdfm.loc[jdfm.supplier_key == s,'peakSalesMin'] = tslistmin"
   ]
  },
  {
   "cell_type": "code",
   "execution_count": 41,
   "metadata": {},
   "outputs": [],
   "source": [
    "jdfm['diffPeakMax'] = jdfm['ordered_product_sales'] - jdfm['peakSales']\n",
    "jdfm['diffPeakMin'] = jdfm['ordered_product_sales'] - jdfm['peakSalesMin']"
   ]
  },
  {
   "cell_type": "code",
   "execution_count": 42,
   "metadata": {},
   "outputs": [],
   "source": [
    "for s in jdfm.supplier_key.unique():\n",
    "    jdfm.loc[jdfm.supplier_key == s,'3wMean_of_12wDiffMean'] = \\\n",
    "        jdfm.loc[jdfm.supplier_key == s,'12wDiffMean'].rolling(3).mean()"
   ]
  },
  {
   "cell_type": "code",
   "execution_count": 43,
   "metadata": {},
   "outputs": [
    {
     "data": {
      "text/plain": [
       "<matplotlib.axes._subplots.AxesSubplot at 0x7f0d0b16eb38>"
      ]
     },
     "execution_count": 43,
     "metadata": {},
     "output_type": "execute_result"
    },
    {
     "data": {
      "image/png": "[encoded data removed]",
      "text/plain": [
       "<Figure size 720x720 with 2 Axes>"
      ]
     },
     "metadata": {
      "needs_background": "light"
     },
     "output_type": "display_data"
    }
   ],
   "source": [
    "import seaborn as sns\n",
    "\n",
    "cols_to_exclude = ['supplier_key',\n",
    "            'year', 'weekofyear', 'index', 'churn_date', 'churned', 'weeks_to_churn', 'trend',\n",
    "                  '%change1wVs3DiffMean','diffPeakMin','diffPeakMax','%change1wVs1DiffMean',\n",
    "                  '%change1w_3mean','losingStrike','winningStrike']\n",
    "cols = [c for c in jdfm.columns if c not in cols_to_exclude]\n",
    "\n",
    "corr = jdfm[cols].corr()\n",
    "fig, ax = plt.subplots(figsize=(10,10)) \n",
    "sns.heatmap(corr, \n",
    "            xticklabels=corr.columns.values,\n",
    "            yticklabels=corr.columns.values, ax = ax)"
   ]
  },
  {
   "cell_type": "code",
   "execution_count": 44,
   "metadata": {},
   "outputs": [
    {
     "data": {
      "text/html": [
       "<div>\n",
       "<style scoped>\n",
       "    .dataframe tbody tr th:only-of-type {\n",
       "        vertical-align: middle;\n",
       "    }\n",
       "\n",
       "    .dataframe tbody tr th {\n",
       "        vertical-align: top;\n",
       "    }\n",
       "\n",
       "    .dataframe thead th {\n",
       "        text-align: right;\n",
       "    }\n",
       "</style>\n",
       "<table border=\"1\" class=\"dataframe\">\n",
       "  <thead>\n",
       "    <tr style=\"text-align: right;\">\n",
       "      <th></th>\n",
       "      <th>1wDiffMean</th>\n",
       "      <th>2wDiffMean</th>\n",
       "      <th>3wDiffMean</th>\n",
       "      <th>6wDiffMean</th>\n",
       "      <th>9wDiffMean</th>\n",
       "      <th>12wDiffMean</th>\n",
       "      <th>15wDiffMean</th>\n",
       "      <th>3wMean_of_12wDiffMean</th>\n",
       "    </tr>\n",
       "  </thead>\n",
       "  <tbody>\n",
       "    <tr>\n",
       "      <th>1wDiffMean</th>\n",
       "      <td>1.000000</td>\n",
       "      <td>0.735219</td>\n",
       "      <td>0.555913</td>\n",
       "      <td>0.385945</td>\n",
       "      <td>0.347230</td>\n",
       "      <td>0.311875</td>\n",
       "      <td>0.316313</td>\n",
       "      <td>-0.047501</td>\n",
       "    </tr>\n",
       "    <tr>\n",
       "      <th>2wDiffMean</th>\n",
       "      <td>0.735219</td>\n",
       "      <td>1.000000</td>\n",
       "      <td>0.801375</td>\n",
       "      <td>0.542241</td>\n",
       "      <td>0.477300</td>\n",
       "      <td>0.441935</td>\n",
       "      <td>0.431241</td>\n",
       "      <td>0.078454</td>\n",
       "    </tr>\n",
       "    <tr>\n",
       "      <th>3wDiffMean</th>\n",
       "      <td>0.555913</td>\n",
       "      <td>0.801375</td>\n",
       "      <td>1.000000</td>\n",
       "      <td>0.665370</td>\n",
       "      <td>0.569160</td>\n",
       "      <td>0.528194</td>\n",
       "      <td>0.499595</td>\n",
       "      <td>0.257412</td>\n",
       "    </tr>\n",
       "    <tr>\n",
       "      <th>6wDiffMean</th>\n",
       "      <td>0.385945</td>\n",
       "      <td>0.542241</td>\n",
       "      <td>0.665370</td>\n",
       "      <td>1.000000</td>\n",
       "      <td>0.740294</td>\n",
       "      <td>0.643930</td>\n",
       "      <td>0.597620</td>\n",
       "      <td>0.493424</td>\n",
       "    </tr>\n",
       "    <tr>\n",
       "      <th>9wDiffMean</th>\n",
       "      <td>0.347230</td>\n",
       "      <td>0.477300</td>\n",
       "      <td>0.569160</td>\n",
       "      <td>0.740294</td>\n",
       "      <td>1.000000</td>\n",
       "      <td>0.774103</td>\n",
       "      <td>0.683679</td>\n",
       "      <td>0.644756</td>\n",
       "    </tr>\n",
       "    <tr>\n",
       "      <th>12wDiffMean</th>\n",
       "      <td>0.311875</td>\n",
       "      <td>0.441935</td>\n",
       "      <td>0.528194</td>\n",
       "      <td>0.643930</td>\n",
       "      <td>0.774103</td>\n",
       "      <td>1.000000</td>\n",
       "      <td>0.787570</td>\n",
       "      <td>0.869440</td>\n",
       "    </tr>\n",
       "    <tr>\n",
       "      <th>15wDiffMean</th>\n",
       "      <td>0.316313</td>\n",
       "      <td>0.431241</td>\n",
       "      <td>0.499595</td>\n",
       "      <td>0.597620</td>\n",
       "      <td>0.683679</td>\n",
       "      <td>0.787570</td>\n",
       "      <td>1.000000</td>\n",
       "      <td>0.790290</td>\n",
       "    </tr>\n",
       "    <tr>\n",
       "      <th>3wMean_of_12wDiffMean</th>\n",
       "      <td>-0.047501</td>\n",
       "      <td>0.078454</td>\n",
       "      <td>0.257412</td>\n",
       "      <td>0.493424</td>\n",
       "      <td>0.644756</td>\n",
       "      <td>0.869440</td>\n",
       "      <td>0.790290</td>\n",
       "      <td>1.000000</td>\n",
       "    </tr>\n",
       "  </tbody>\n",
       "</table>\n",
       "</div>"
      ],
      "text/plain": [
       "                       1wDiffMean  2wDiffMean  3wDiffMean  6wDiffMean  \\\n",
       "1wDiffMean               1.000000    0.735219    0.555913    0.385945   \n",
       "2wDiffMean               0.735219    1.000000    0.801375    0.542241   \n",
       "3wDiffMean               0.555913    0.801375    1.000000    0.665370   \n",
       "6wDiffMean               0.385945    0.542241    0.665370    1.000000   \n",
       "9wDiffMean               0.347230    0.477300    0.569160    0.740294   \n",
       "12wDiffMean              0.311875    0.441935    0.528194    0.643930   \n",
       "15wDiffMean              0.316313    0.431241    0.499595    0.597620   \n",
       "3wMean_of_12wDiffMean   -0.047501    0.078454    0.257412    0.493424   \n",
       "\n",
       "                       9wDiffMean  12wDiffMean  15wDiffMean  \\\n",
       "1wDiffMean               0.347230     0.311875     0.316313   \n",
       "2wDiffMean               0.477300     0.441935     0.431241   \n",
       "3wDiffMean               0.569160     0.528194     0.499595   \n",
       "6wDiffMean               0.740294     0.643930     0.597620   \n",
       "9wDiffMean               1.000000     0.774103     0.683679   \n",
       "12wDiffMean              0.774103     1.000000     0.787570   \n",
       "15wDiffMean              0.683679     0.787570     1.000000   \n",
       "3wMean_of_12wDiffMean    0.644756     0.869440     0.790290   \n",
       "\n",
       "                       3wMean_of_12wDiffMean  \n",
       "1wDiffMean                         -0.047501  \n",
       "2wDiffMean                          0.078454  \n",
       "3wDiffMean                          0.257412  \n",
       "6wDiffMean                          0.493424  \n",
       "9wDiffMean                          0.644756  \n",
       "12wDiffMean                         0.869440  \n",
       "15wDiffMean                         0.790290  \n",
       "3wMean_of_12wDiffMean               1.000000  "
      ]
     },
     "execution_count": 44,
     "metadata": {},
     "output_type": "execute_result"
    }
   ],
   "source": [
    "jdfm.loc[:,[c for c in jdfm.columns if 'Diff' in c]].corr()"
   ]
  },
  {
   "cell_type": "code",
   "execution_count": 45,
   "metadata": {},
   "outputs": [],
   "source": [
    "jdfm['trend'] = 0\n",
    "jdfm['trend'].value_counts()\n",
    "jdfm.loc[(jdfm.weeks_to_churn == 1) & (jdfm.loc[:,'6wDiffMean'] > 0),'trend'] = 1\n",
    "jdfm = jdfm.reset_index()\n",
    "jdfm.loc[:,'trend'] = jdfm.supplier_key.map(jdfm.groupby('supplier_key').max()['trend'])"
   ]
  },
  {
   "cell_type": "code",
   "execution_count": 46,
   "metadata": {},
   "outputs": [
    {
     "data": {
      "text/plain": [
       "[<matplotlib.lines.Line2D at 0x7f0d0af24b70>]"
      ]
     },
     "execution_count": 46,
     "metadata": {},
     "output_type": "execute_result"
    },
    {
     "data": {
      "image/png": "[encoded data removed]",
      "text/plain": [
       "<Figure size 432x288 with 4 Axes>"
      ]
     },
     "metadata": {
      "needs_background": "light"
     },
     "output_type": "display_data"
    }
   ],
   "source": [
    "plt.subplot(2, 2, 1)\n",
    "plt.plot(jdfm.loc[(jdfm.weeks_to_churn > 0) & (jdfm.trend == 1) & \\\n",
    "                  (jdfm.weeks_to_churn < 25),:].groupby('weeks_to_churn').mean()['12wDiffMean'])\n",
    "plt.plot(jdfm.loc[(jdfm.weeks_to_churn > 0) & (jdfm.trend == 0) & \\\n",
    "                  (jdfm.weeks_to_churn < 25),:].groupby('weeks_to_churn').mean()['12wDiffMean'])\n",
    "\n",
    "\n",
    "plt.subplot(2, 2, 2)\n",
    "plt.plot(jdfm.loc[(jdfm.weeks_to_churn > 0) & (jdfm.trend == 1) & \\\n",
    "                  (jdfm.weeks_to_churn < 25),:].groupby('weeks_to_churn').mean()['6wDiffMean'])\n",
    "plt.plot(jdfm.loc[(jdfm.weeks_to_churn > 0) & (jdfm.trend == 0) & \\\n",
    "                  (jdfm.weeks_to_churn < 25),:].groupby('weeks_to_churn').mean()['6wDiffMean'])\n",
    "\n",
    "plt.subplot(2, 2, 3)\n",
    "plt.plot(jdfm.loc[(jdfm.weeks_to_churn > 0) & (jdfm.trend == 1) & \\\n",
    "                  (jdfm.weeks_to_churn < 25),:].groupby('weeks_to_churn').mean()['3wDiffMean'])\n",
    "plt.plot(jdfm.loc[(jdfm.weeks_to_churn > 0) & (jdfm.trend == 0) & \\\n",
    "                  (jdfm.weeks_to_churn < 25),:].groupby('weeks_to_churn').mean()['3wDiffMean'])\n",
    "\n",
    "plt.subplot(2, 2, 4)\n",
    "plt.plot(jdfm.loc[(jdfm.weeks_to_churn > 0) & (jdfm.trend == 1) & \\\n",
    "                  (jdfm.weeks_to_churn < 25),:].groupby('weeks_to_churn').mean()['1wDiffMean'])\n",
    "plt.plot(jdfm.loc[(jdfm.weeks_to_churn > 0) & (jdfm.trend == 0) & \\\n",
    "                  (jdfm.weeks_to_churn < 25),:].groupby('weeks_to_churn').mean()['1wDiffMean'])\n"
   ]
  },
  {
   "cell_type": "markdown",
   "metadata": {},
   "source": [
    "# Model for JDFM"
   ]
  },
  {
   "cell_type": "code",
   "execution_count": 47,
   "metadata": {},
   "outputs": [],
   "source": [
    "def rmse(predictions, targets):\n",
    "    return np.sqrt(((predictions - targets) ** 2).mean())"
   ]
  },
  {
   "cell_type": "code",
   "execution_count": 48,
   "metadata": {},
   "outputs": [],
   "source": [
    "params = {\n",
    "    'objective' :'regression',\n",
    "    'learning_rate' : 0.1,\n",
    "    'max_depth': 3,\n",
    "    'num_leaves' : 3,\n",
    "    'feature_fraction': 1, \n",
    "    'bagging_fraction': 0.7, \n",
    "    'bagging_freq':1,\n",
    "    'boosting_type' : 'gbdt',\n",
    "    'metric': 'rmse'\n",
    "}\n",
    "\n",
    "def model4JDFM(params, df, target, nr_fold=5, random_state=1):\n",
    "    \n",
    "    clfs = []\n",
    "    importances = pd.DataFrame()\n",
    "    folds = StratifiedKFold(n_splits=nr_fold, \n",
    "                            shuffle=True, \n",
    "                            random_state=random_state)\n",
    "    \n",
    "    oof_preds = np.zeros(len(df))\n",
    "    for fold_, (trn_, val_) in enumerate(folds.split(target, target)):\n",
    "        trn_x, trn_y = df.iloc[trn_], target.iloc[trn_]\n",
    "        val_x, val_y = df.iloc[val_], target.iloc[val_]\n",
    "        \n",
    "        # making lgbm datasets for train and valid\n",
    "        d_train = lgbm.Dataset(trn_x, trn_y)\n",
    "        d_valid = lgbm.Dataset(val_x, val_y)\n",
    "        \n",
    "        evals_result = {}\n",
    "        # training with early stop\n",
    "        clf = lgbm.train(params, d_train, 500, \n",
    "                 valid_sets=[d_train,d_valid], \n",
    "                 evals_result=evals_result,\n",
    "                 verbose_eval=100, \n",
    "                 early_stopping_rounds=50)\n",
    "        \n",
    "        #ax = lgbm.plot_metric(evals_result, metric='rmse')\n",
    "        #plt.show()\n",
    "    \n",
    "        clfs.append(clf)\n",
    "\n",
    "        #oof_preds[val_] = clf.predict(val_x)\n",
    "        print('no {}-fold loss: {}'.format(fold_ + 1, \n",
    "              rmse(val_y, clf.predict(val_x))))\n",
    "        \n",
    "        oof_preds[val_] = clf.predict(val_x)\n",
    "    \n",
    "        imp_df = pd.DataFrame({\n",
    "                'feature': clf.feature_name(),\n",
    "                'gain': clf.feature_importance(),\n",
    "                'fold': [fold_ + 1] * len(df.columns),\n",
    "                })\n",
    "        importances = pd.concat([importances, imp_df], axis=0, sort=False)\n",
    "\n",
    "    score = rmse(target, oof_preds)\n",
    "    print('rmse : {:.5f}'.format(score))\n",
    "    #df_importances = save_importances(importances_=importances)\n",
    "    #df_importances.to_csv('gbm_importances.csv', index=False)\n",
    "    \n",
    "    return clfs, score, importances, oof_preds"
   ]
  },
  {
   "cell_type": "code",
   "execution_count": 49,
   "metadata": {},
   "outputs": [],
   "source": [
    "cols_to_exclude = ['supplier_key', 'level_0',\n",
    "            'year', 'weekofyear', 'index', 'churn_date', 'churned', 'weeks_to_churn', 'trend',\n",
    "                  '%change1wVs3DiffMean','diffPeakMin','diffPeakMax','%change1wVs1DiffMean',\n",
    "                  '%change1w_3mean','losingStrike','winningStrike','3wMean_of_12wDiffMean','timeToPeakSales']\n",
    "cols = [c for c in jdfm.columns if c not in cols_to_exclude]\n",
    "jdfm_tr = jdfm.loc[(jdfm.weeks_to_churn > 0) & (jdfm.weeks_to_churn < 52),:]\n",
    "target = jdfm_tr.weeks_to_churn.copy()\n",
    "jdfm_tr = jdfm_tr[cols]"
   ]
  },
  {
   "cell_type": "code",
   "execution_count": 50,
   "metadata": {
    "scrolled": true
   },
   "outputs": [
    {
     "name": "stdout",
     "output_type": "stream",
     "text": [
      "Training until validation scores don't improve for 50 rounds.\n",
      "[100]\ttraining's rmse: 12.738\tvalid_1's rmse: 12.8898\n",
      "[200]\ttraining's rmse: 12.151\tvalid_1's rmse: 12.5426\n",
      "[300]\ttraining's rmse: 11.6348\tvalid_1's rmse: 12.2967\n",
      "[400]\ttraining's rmse: 11.2719\tvalid_1's rmse: 12.0963\n",
      "[500]\ttraining's rmse: 10.952\tvalid_1's rmse: 11.9581\n",
      "Did not meet early stopping. Best iteration is:\n",
      "[500]\ttraining's rmse: 10.952\tvalid_1's rmse: 11.9581\n",
      "no 1-fold loss: 11.958122637173082\n",
      "Training until validation scores don't improve for 50 rounds.\n",
      "[100]\ttraining's rmse: 12.6217\tvalid_1's rmse: 13.2746\n",
      "[200]\ttraining's rmse: 11.9917\tvalid_1's rmse: 12.9878\n",
      "[300]\ttraining's rmse: 11.5117\tvalid_1's rmse: 12.7525\n",
      "[400]\ttraining's rmse: 11.1456\tvalid_1's rmse: 12.6365\n",
      "[500]\ttraining's rmse: 10.7808\tvalid_1's rmse: 12.4828\n",
      "Did not meet early stopping. Best iteration is:\n",
      "[500]\ttraining's rmse: 10.7808\tvalid_1's rmse: 12.4828\n",
      "no 2-fold loss: 12.482787744847094\n",
      "Training until validation scores don't improve for 50 rounds.\n",
      "[100]\ttraining's rmse: 12.6887\tvalid_1's rmse: 13.1614\n",
      "[200]\ttraining's rmse: 12.0622\tvalid_1's rmse: 13.016\n",
      "[300]\ttraining's rmse: 11.5975\tvalid_1's rmse: 12.861\n",
      "[400]\ttraining's rmse: 11.1927\tvalid_1's rmse: 12.6882\n",
      "[500]\ttraining's rmse: 10.8381\tvalid_1's rmse: 12.632\n",
      "Did not meet early stopping. Best iteration is:\n",
      "[500]\ttraining's rmse: 10.8381\tvalid_1's rmse: 12.632\n",
      "no 3-fold loss: 12.631969478837188\n",
      "Training until validation scores don't improve for 50 rounds.\n",
      "[100]\ttraining's rmse: 12.588\tvalid_1's rmse: 13.5065\n",
      "[200]\ttraining's rmse: 12.0061\tvalid_1's rmse: 13.3919\n",
      "Early stopping, best iteration is:\n",
      "[155]\ttraining's rmse: 12.2392\tvalid_1's rmse: 13.3835\n",
      "no 4-fold loss: 13.38345444997304\n",
      "Training until validation scores don't improve for 50 rounds.\n",
      "[100]\ttraining's rmse: 12.5658\tvalid_1's rmse: 13.4889\n",
      "Early stopping, best iteration is:\n",
      "[124]\ttraining's rmse: 12.3729\tvalid_1's rmse: 13.3506\n",
      "no 5-fold loss: 13.350578808682885\n",
      "rmse : 12.76565\n"
     ]
    }
   ],
   "source": [
    "clfs, score, importances, oof_preds = model4JDFM(params, jdfm_tr, target, nr_fold=5, random_state=1)"
   ]
  },
  {
   "cell_type": "code",
   "execution_count": 51,
   "metadata": {},
   "outputs": [
    {
     "data": {
      "text/html": [
       "<div>\n",
       "<style scoped>\n",
       "    .dataframe tbody tr th:only-of-type {\n",
       "        vertical-align: middle;\n",
       "    }\n",
       "\n",
       "    .dataframe tbody tr th {\n",
       "        vertical-align: top;\n",
       "    }\n",
       "\n",
       "    .dataframe thead th {\n",
       "        text-align: right;\n",
       "    }\n",
       "</style>\n",
       "<table border=\"1\" class=\"dataframe\">\n",
       "  <thead>\n",
       "    <tr style=\"text-align: right;\">\n",
       "      <th></th>\n",
       "      <th>gain</th>\n",
       "      <th>fold</th>\n",
       "    </tr>\n",
       "    <tr>\n",
       "      <th>feature</th>\n",
       "      <th></th>\n",
       "      <th></th>\n",
       "    </tr>\n",
       "  </thead>\n",
       "  <tbody>\n",
       "    <tr>\n",
       "      <th>peakSales</th>\n",
       "      <td>165.6</td>\n",
       "      <td>3.0</td>\n",
       "    </tr>\n",
       "    <tr>\n",
       "      <th>weeks_from_start</th>\n",
       "      <td>126.2</td>\n",
       "      <td>3.0</td>\n",
       "    </tr>\n",
       "    <tr>\n",
       "      <th>peakSalesMin</th>\n",
       "      <td>112.4</td>\n",
       "      <td>3.0</td>\n",
       "    </tr>\n",
       "    <tr>\n",
       "      <th>units_ordered</th>\n",
       "      <td>45.2</td>\n",
       "      <td>3.0</td>\n",
       "    </tr>\n",
       "    <tr>\n",
       "      <th>15wDiffMean</th>\n",
       "      <td>35.8</td>\n",
       "      <td>3.0</td>\n",
       "    </tr>\n",
       "    <tr>\n",
       "      <th>6wDiffMean</th>\n",
       "      <td>32.2</td>\n",
       "      <td>3.0</td>\n",
       "    </tr>\n",
       "    <tr>\n",
       "      <th>9wDiffMean</th>\n",
       "      <td>31.2</td>\n",
       "      <td>3.0</td>\n",
       "    </tr>\n",
       "    <tr>\n",
       "      <th>12wDiffMean</th>\n",
       "      <td>28.2</td>\n",
       "      <td>3.0</td>\n",
       "    </tr>\n",
       "    <tr>\n",
       "      <th>3wDiffMean</th>\n",
       "      <td>26.8</td>\n",
       "      <td>3.0</td>\n",
       "    </tr>\n",
       "    <tr>\n",
       "      <th>ordered_product_sales</th>\n",
       "      <td>25.0</td>\n",
       "      <td>3.0</td>\n",
       "    </tr>\n",
       "    <tr>\n",
       "      <th>2wDiffMean</th>\n",
       "      <td>23.8</td>\n",
       "      <td>3.0</td>\n",
       "    </tr>\n",
       "    <tr>\n",
       "      <th>units_refunded</th>\n",
       "      <td>22.0</td>\n",
       "      <td>3.0</td>\n",
       "    </tr>\n",
       "    <tr>\n",
       "      <th>1wDiffMean</th>\n",
       "      <td>17.0</td>\n",
       "      <td>3.0</td>\n",
       "    </tr>\n",
       "    <tr>\n",
       "      <th>ordered_product_sales_b2b</th>\n",
       "      <td>12.8</td>\n",
       "      <td>3.0</td>\n",
       "    </tr>\n",
       "    <tr>\n",
       "      <th>units_ordered_b2b</th>\n",
       "      <td>7.4</td>\n",
       "      <td>3.0</td>\n",
       "    </tr>\n",
       "    <tr>\n",
       "      <th>beginZero_toDel</th>\n",
       "      <td>0.0</td>\n",
       "      <td>3.0</td>\n",
       "    </tr>\n",
       "  </tbody>\n",
       "</table>\n",
       "</div>"
      ],
      "text/plain": [
       "                            gain  fold\n",
       "feature                               \n",
       "peakSales                  165.6   3.0\n",
       "weeks_from_start           126.2   3.0\n",
       "peakSalesMin               112.4   3.0\n",
       "units_ordered               45.2   3.0\n",
       "15wDiffMean                 35.8   3.0\n",
       "6wDiffMean                  32.2   3.0\n",
       "9wDiffMean                  31.2   3.0\n",
       "12wDiffMean                 28.2   3.0\n",
       "3wDiffMean                  26.8   3.0\n",
       "ordered_product_sales       25.0   3.0\n",
       "2wDiffMean                  23.8   3.0\n",
       "units_refunded              22.0   3.0\n",
       "1wDiffMean                  17.0   3.0\n",
       "ordered_product_sales_b2b   12.8   3.0\n",
       "units_ordered_b2b            7.4   3.0\n",
       "beginZero_toDel              0.0   3.0"
      ]
     },
     "execution_count": 51,
     "metadata": {},
     "output_type": "execute_result"
    }
   ],
   "source": [
    "importances.groupby('feature').mean().sort_values('gain', ascending = False)"
   ]
  },
  {
   "cell_type": "code",
   "execution_count": 52,
   "metadata": {},
   "outputs": [],
   "source": [
    "jdfm_tr['preds'] = oof_preds\n",
    "jdfm_tr['weeks_to_churn'] = target"
   ]
  },
  {
   "cell_type": "code",
   "execution_count": 53,
   "metadata": {
    "scrolled": true
   },
   "outputs": [
    {
     "data": {
      "text/plain": [
       "Text(0, 0.5, 'Months to churn PRED')"
      ]
     },
     "execution_count": 53,
     "metadata": {},
     "output_type": "execute_result"
    },
    {
     "data": {
      "image/png": "[encoded data removed]",
      "text/plain": [
       "<Figure size 432x288 with 1 Axes>"
      ]
     },
     "metadata": {
      "needs_background": "light"
     },
     "output_type": "display_data"
    }
   ],
   "source": [
    "plt.plot(jdfm_tr.loc[jdfm_tr.weeks_to_churn < 151,:].groupby('weeks_to_churn').mean()['preds'])\n",
    "#plt.plot(jdfm_tr.loc[jdfm_tr.weeks_to_churn < 151,:].groupby('weeks_to_churn').std()['preds'])\n",
    "plt.legend(['mean', 'std'])\n",
    "plt.xlabel('Months to churn TRUE')\n",
    "plt.ylabel('Months to churn PRED')"
   ]
  },
  {
   "cell_type": "code",
   "execution_count": 54,
   "metadata": {},
   "outputs": [],
   "source": [
    "#maybe that's the waiting period? Let's introduc\n",
    "#final month could be skewed\n",
    "#del jdfm['preds']"
   ]
  },
  {
   "cell_type": "markdown",
   "metadata": {},
   "source": [
    "# Model for AUC"
   ]
  },
  {
   "cell_type": "code",
   "execution_count": 55,
   "metadata": {},
   "outputs": [],
   "source": [
    "cols_to_exclude = ['supplier_key',\n",
    "            'year', 'weekofyear', 'index', 'churn_date', 'churned', 'weeks_to_churn', 'trend',\n",
    "                  'ordered_product_sales_b2b','15wDiffMean','units_ordered_b2b','units_refunded',\n",
    "                  '%change1wVs1DiffMean','%change1w_3mean','losingStrike','winningStrike','diffPeakMin',\n",
    "                  'peakSales','level_0','6wMean','3wMean','12wMean','diffOf12wMean','timeToPeakSales']\n",
    "cols = [c for c in jdfm.columns if c not in cols_to_exclude]\n",
    "jdfm_tr = jdfm.loc[jdfm.weeks_to_churn > 0,:]\n",
    "target = jdfm_tr.weeks_to_churn.copy()\n",
    "target_ori = jdfm_tr.weeks_to_churn.copy()\n",
    "trend = jdfm_tr.trend.copy()\n",
    "jdfm_tr = jdfm_tr[cols]\n",
    "target.loc[target > 1] = 0\n",
    "\n",
    "params = {\n",
    "    'objective' :'binary',\n",
    "    'learning_rate' : 0.1,\n",
    "    'max_depth': 3,\n",
    "    'num_leaves' : 3,\n",
    "    'feature_fraction': 1, \n",
    "    'bagging_fraction': 0.6, \n",
    "    'bagging_freq':1,\n",
    "    'boosting_type' : 'gbdt',\n",
    "    'metric': 'auc',\n",
    "    'lambda_l1': 0,\n",
    "    'lambda_l2': 0\n",
    "}\n",
    "\n",
    "def model4JDFM_AUC(params, df, target, nr_fold=5, random_state=1):\n",
    "    \n",
    "    clfs = []\n",
    "    importances = pd.DataFrame()\n",
    "    folds = StratifiedKFold(n_splits=nr_fold, \n",
    "                            shuffle=True, \n",
    "                            random_state=random_state)\n",
    "    \n",
    "    oof_preds = np.zeros(len(df))\n",
    "    for fold_, (trn_, val_) in enumerate(folds.split(target, target)):\n",
    "        trn_x, trn_y = df.iloc[trn_], target.iloc[trn_]\n",
    "        val_x, val_y = df.iloc[val_], target.iloc[val_]\n",
    "        \n",
    "        # making lgbm datasets for train and valid\n",
    "        d_train = lgbm.Dataset(trn_x, trn_y)\n",
    "        d_valid = lgbm.Dataset(val_x, val_y)\n",
    "        \n",
    "        evals_result = {}\n",
    "        # training with early stop\n",
    "        clf = lgbm.train(params, d_train, 500, \n",
    "                 valid_sets=[d_train,d_valid], \n",
    "                 evals_result=evals_result,\n",
    "                 verbose_eval=100, \n",
    "                 early_stopping_rounds=50)\n",
    "        \n",
    "        #ax = lgbm.plot_metric(evals_result, metric='auc')\n",
    "        #plt.show()\n",
    "    \n",
    "        clfs.append(clf)\n",
    "\n",
    "        #oof_preds[val_] = clf.predict(val_x)\n",
    "        print('no {}-fold loss: {}'.format(fold_ + 1, \n",
    "              roc_auc_score(val_y, clf.predict(val_x))))\n",
    "        \n",
    "        oof_preds[val_] = clf.predict(val_x)\n",
    "    \n",
    "        imp_df = pd.DataFrame({\n",
    "                'feature': clf.feature_name(),\n",
    "                'gain': clf.feature_importance(),\n",
    "                'fold': [fold_ + 1] * len(df.columns),\n",
    "                })\n",
    "        importances = pd.concat([importances, imp_df], axis=0, sort=False)\n",
    "\n",
    "    score = roc_auc_score(target, oof_preds)\n",
    "    print('roc : {:.5f}'.format(score))\n",
    "    #df_importances = save_importances(importances_=importances)\n",
    "    #df_importances.to_csv('gbm_importances.csv', index=False)\n",
    "    \n",
    "    return clfs, score, importances, oof_preds"
   ]
  },
  {
   "cell_type": "code",
   "execution_count": 56,
   "metadata": {
    "scrolled": true
   },
   "outputs": [
    {
     "name": "stdout",
     "output_type": "stream",
     "text": [
      "Training until validation scores don't improve for 50 rounds.\n",
      "Early stopping, best iteration is:\n",
      "[17]\ttraining's auc: 0.828565\tvalid_1's auc: 0.790281\n",
      "no 1-fold loss: 0.790281455329999\n",
      "Training until validation scores don't improve for 50 rounds.\n",
      "Early stopping, best iteration is:\n",
      "[32]\ttraining's auc: 0.864089\tvalid_1's auc: 0.731417\n",
      "no 2-fold loss: 0.7314172702522217\n",
      "Training until validation scores don't improve for 50 rounds.\n",
      "Early stopping, best iteration is:\n",
      "[35]\ttraining's auc: 0.865986\tvalid_1's auc: 0.793848\n",
      "no 3-fold loss: 0.7938478143550998\n",
      "Training until validation scores don't improve for 50 rounds.\n",
      "Early stopping, best iteration is:\n",
      "[45]\ttraining's auc: 0.892584\tvalid_1's auc: 0.662054\n",
      "no 4-fold loss: 0.6620538123506283\n",
      "Training until validation scores don't improve for 50 rounds.\n",
      "Early stopping, best iteration is:\n",
      "[12]\ttraining's auc: 0.828835\tvalid_1's auc: 0.736194\n",
      "no 5-fold loss: 0.7361935599928043\n",
      "roc : 0.73380\n"
     ]
    }
   ],
   "source": [
    "clfs, score, importances, oof_preds = model4JDFM_AUC(params, jdfm_tr, target, nr_fold=5, random_state=1)"
   ]
  },
  {
   "cell_type": "code",
   "execution_count": 57,
   "metadata": {
    "scrolled": true
   },
   "outputs": [
    {
     "data": {
      "text/html": [
       "<div>\n",
       "<style scoped>\n",
       "    .dataframe tbody tr th:only-of-type {\n",
       "        vertical-align: middle;\n",
       "    }\n",
       "\n",
       "    .dataframe tbody tr th {\n",
       "        vertical-align: top;\n",
       "    }\n",
       "\n",
       "    .dataframe thead th {\n",
       "        text-align: right;\n",
       "    }\n",
       "</style>\n",
       "<table border=\"1\" class=\"dataframe\">\n",
       "  <thead>\n",
       "    <tr style=\"text-align: right;\">\n",
       "      <th></th>\n",
       "      <th>gain</th>\n",
       "      <th>fold</th>\n",
       "    </tr>\n",
       "    <tr>\n",
       "      <th>feature</th>\n",
       "      <th></th>\n",
       "      <th></th>\n",
       "    </tr>\n",
       "  </thead>\n",
       "  <tbody>\n",
       "    <tr>\n",
       "      <th>weeks_from_start</th>\n",
       "      <td>9.0</td>\n",
       "      <td>3.0</td>\n",
       "    </tr>\n",
       "    <tr>\n",
       "      <th>6wDiffMean</th>\n",
       "      <td>6.6</td>\n",
       "      <td>3.0</td>\n",
       "    </tr>\n",
       "    <tr>\n",
       "      <th>1wDiffMean</th>\n",
       "      <td>6.2</td>\n",
       "      <td>3.0</td>\n",
       "    </tr>\n",
       "    <tr>\n",
       "      <th>diffPeakMax</th>\n",
       "      <td>6.0</td>\n",
       "      <td>3.0</td>\n",
       "    </tr>\n",
       "    <tr>\n",
       "      <th>9wDiffMean</th>\n",
       "      <td>4.8</td>\n",
       "      <td>3.0</td>\n",
       "    </tr>\n",
       "    <tr>\n",
       "      <th>ordered_product_sales</th>\n",
       "      <td>4.2</td>\n",
       "      <td>3.0</td>\n",
       "    </tr>\n",
       "    <tr>\n",
       "      <th>12wDiffMean</th>\n",
       "      <td>4.0</td>\n",
       "      <td>3.0</td>\n",
       "    </tr>\n",
       "    <tr>\n",
       "      <th>3wMean_of_12wDiffMean</th>\n",
       "      <td>4.0</td>\n",
       "      <td>3.0</td>\n",
       "    </tr>\n",
       "    <tr>\n",
       "      <th>2wDiffMean</th>\n",
       "      <td>3.6</td>\n",
       "      <td>3.0</td>\n",
       "    </tr>\n",
       "    <tr>\n",
       "      <th>units_ordered</th>\n",
       "      <td>3.0</td>\n",
       "      <td>3.0</td>\n",
       "    </tr>\n",
       "    <tr>\n",
       "      <th>peakSalesMin</th>\n",
       "      <td>2.6</td>\n",
       "      <td>3.0</td>\n",
       "    </tr>\n",
       "    <tr>\n",
       "      <th>3wDiffMean</th>\n",
       "      <td>2.4</td>\n",
       "      <td>3.0</td>\n",
       "    </tr>\n",
       "    <tr>\n",
       "      <th>beginZero_toDel</th>\n",
       "      <td>0.0</td>\n",
       "      <td>3.0</td>\n",
       "    </tr>\n",
       "  </tbody>\n",
       "</table>\n",
       "</div>"
      ],
      "text/plain": [
       "                       gain  fold\n",
       "feature                          \n",
       "weeks_from_start        9.0   3.0\n",
       "6wDiffMean              6.6   3.0\n",
       "1wDiffMean              6.2   3.0\n",
       "diffPeakMax             6.0   3.0\n",
       "9wDiffMean              4.8   3.0\n",
       "ordered_product_sales   4.2   3.0\n",
       "12wDiffMean             4.0   3.0\n",
       "3wMean_of_12wDiffMean   4.0   3.0\n",
       "2wDiffMean              3.6   3.0\n",
       "units_ordered           3.0   3.0\n",
       "peakSalesMin            2.6   3.0\n",
       "3wDiffMean              2.4   3.0\n",
       "beginZero_toDel         0.0   3.0"
      ]
     },
     "execution_count": 57,
     "metadata": {},
     "output_type": "execute_result"
    }
   ],
   "source": [
    "importances.groupby('feature').mean().sort_values('gain', ascending = False)"
   ]
  },
  {
   "cell_type": "code",
   "execution_count": 58,
   "metadata": {},
   "outputs": [],
   "source": [
    "jdfm_tr['preds'] = oof_preds\n",
    "jdfm_tr['weeks_to_churn'] = target_ori\n",
    "jdfm_tr['trend'] = trend"
   ]
  },
  {
   "cell_type": "code",
   "execution_count": 59,
   "metadata": {},
   "outputs": [
    {
     "data": {
      "text/plain": [
       "Text(0, 0.5, 'Probability of to churn')"
      ]
     },
     "execution_count": 59,
     "metadata": {},
     "output_type": "execute_result"
    },
    {
     "data": {
      "image/png": "[encoded data removed]",
      "text/plain": [
       "<Figure size 432x288 with 1 Axes>"
      ]
     },
     "metadata": {
      "needs_background": "light"
     },
     "output_type": "display_data"
    }
   ],
   "source": [
    "plt.plot(jdfm_tr.loc[jdfm_tr.weeks_to_churn < 120,:].groupby('weeks_to_churn').mean()['preds'])\n",
    "plt.plot(jdfm_tr.loc[jdfm_tr.weeks_to_churn < 120,:].groupby('weeks_to_churn').std()['preds'])\n",
    "plt.legend(['mean', 'std'])\n",
    "plt.xlabel('Weeks to churn')\n",
    "plt.ylabel('Probability of to churn')"
   ]
  },
  {
   "cell_type": "code",
   "execution_count": 60,
   "metadata": {},
   "outputs": [],
   "source": [
    "t1 = jdfm_tr.loc[(jdfm_tr.weeks_to_churn > 0) & (jdfm_tr.trend == 1) & \\\n",
    "                  (jdfm.weeks_to_churn < 120),:].groupby('weeks_to_churn').mean()['6wDiffMean']\n",
    "t2 = jdfm_tr.loc[(jdfm_tr.weeks_to_churn > 0) & (jdfm_tr.trend == 0) & \\\n",
    "                  (jdfm_tr.weeks_to_churn < 120),:].groupby('weeks_to_churn').mean()['6wDiffMean']\n",
    "t3 = jdfm_tr.loc[(jdfm_tr.weeks_to_churn > 0) & (jdfm_tr.trend == 0) & \\\n",
    "                  (jdfm_tr.weeks_to_churn < 120),:].groupby('weeks_to_churn').mean()['preds']"
   ]
  },
  {
   "cell_type": "code",
   "execution_count": 61,
   "metadata": {},
   "outputs": [
    {
     "data": {
      "text/plain": [
       "<matplotlib.legend.Legend at 0x7f0d09a3d128>"
      ]
     },
     "execution_count": 61,
     "metadata": {},
     "output_type": "execute_result"
    },
    {
     "data": {
      "image/png": "[encoded data removed]",
      "text/plain": [
       "<Figure size 432x288 with 1 Axes>"
      ]
     },
     "metadata": {
      "needs_background": "light"
     },
     "output_type": "display_data"
    }
   ],
   "source": [
    "plt.plot((t1 - t1.mean()) / t1.std())\n",
    "plt.plot((t2 - t2.mean()) / t2.std())\n",
    "plt.plot((t3 - t3.mean()) / t3.std())\n",
    "plt.legend(['12wDiffMean Positive','12wDiffMean Negative','Model'])"
   ]
  },
  {
   "cell_type": "markdown",
   "metadata": {},
   "source": [
    "The model doesn't get as high as 12wDiffMean when pointing out customers who had outgrown Payability but is way more stable"
   ]
  },
  {
   "cell_type": "markdown",
   "metadata": {},
   "source": [
    "Things to  try:\n",
    "- Survival Analysis\n",
    "- Data related to users which didn't convert yet\n",
    "- LSTM\n",
    "- Add other data about customer (category of sales)\n",
    "- add monthly aggregations\n",
    "- add YOY data\n",
    "- add trend data without seasonality"
   ]
  }
 ],
 "metadata": {
  "kernelspec": {
   "display_name": "Python 3",
   "language": "python",
   "name": "python3"
  },
  "language_info": {
   "codemirror_mode": {
    "name": "ipython",
    "version": 3
   },
   "file_extension": ".py",
   "mimetype": "text/x-python",
   "name": "python",
   "nbconvert_exporter": "python",
   "pygments_lexer": "ipython3",
   "version": "3.6.7"
  }
 },
 "nbformat": 4,
 "nbformat_minor": 2
}
